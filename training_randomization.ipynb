{
 "cells": [
  {
   "cell_type": "code",
   "execution_count": 1,
   "id": "86281ee6",
   "metadata": {},
   "outputs": [],
   "source": [
    "import pandas as pd\n",
    "from qdrant_client import QdrantClient, models\n",
    "from fastembed import TextEmbedding\n"
   ]
  },
  {
   "cell_type": "markdown",
   "id": "183774fc",
   "metadata": {},
   "source": [
    "## Load data"
   ]
  },
  {
   "cell_type": "code",
   "execution_count": 2,
   "id": "b5fade8b",
   "metadata": {},
   "outputs": [],
   "source": [
    "cerebras_df = pd.read_excel(\"data/testi_cerebras_20250608.xlsx\")\n",
    "mistral_df = pd.read_excel(\"data/testi_mistral_20250608.xlsx\")\n",
    "qwen_df = pd.read_excel(\"data/testi_qwen_20250608.xlsx\")"
   ]
  },
  {
   "cell_type": "code",
   "execution_count": 3,
   "id": "f635396e",
   "metadata": {},
   "outputs": [],
   "source": [
    "cerebras_df[\"model\"] = \"llama-4-scout-17b-16e-instruct\"\n",
    "mistral_df[\"model\"] = \"mistral-large-latest\"\n",
    "qwen_df[\"model\"] = \"qwen2.5-72b-instruct\""
   ]
  },
  {
   "cell_type": "markdown",
   "id": "1c0edb3e",
   "metadata": {},
   "source": [
    "## Merge data and random sample for training"
   ]
  },
  {
   "cell_type": "code",
   "execution_count": 14,
   "id": "d2d8048f",
   "metadata": {},
   "outputs": [],
   "source": [
    "all_df = pd.concat([cerebras_df, mistral_df, qwen_df], ignore_index=True)\n",
    "all_df[\"text_id\"] = all_df.testo.astype(\"category\").cat.codes\n",
    "\n",
    "\n",
    "train_df = all_df.sample(frac=1, random_state=42).drop_duplicates(subset='testo', keep='first').reset_index(drop=True)"
   ]
  },
  {
   "cell_type": "code",
   "execution_count": 46,
   "id": "356a8d00",
   "metadata": {},
   "outputs": [],
   "source": [
    "all_df.to_excel(\"data/testi_all.xlsx\", index=False)"
   ]
  },
  {
   "cell_type": "code",
   "execution_count": 15,
   "id": "6b918234",
   "metadata": {},
   "outputs": [
    {
     "data": {
      "text/html": [
       "<div>\n",
       "<style scoped>\n",
       "    .dataframe tbody tr th:only-of-type {\n",
       "        vertical-align: middle;\n",
       "    }\n",
       "\n",
       "    .dataframe tbody tr th {\n",
       "        vertical-align: top;\n",
       "    }\n",
       "\n",
       "    .dataframe thead th {\n",
       "        text-align: right;\n",
       "    }\n",
       "</style>\n",
       "<table border=\"1\" class=\"dataframe\">\n",
       "  <thead>\n",
       "    <tr style=\"text-align: right;\">\n",
       "      <th></th>\n",
       "      <th>edizione</th>\n",
       "      <th>sezione</th>\n",
       "      <th>titoletto</th>\n",
       "      <th>testo</th>\n",
       "      <th>input</th>\n",
       "      <th>model</th>\n",
       "      <th>text_id</th>\n",
       "    </tr>\n",
       "  </thead>\n",
       "  <tbody>\n",
       "    <tr>\n",
       "      <th>0</th>\n",
       "      <td>2023Q2</td>\n",
       "      <td>corpo</td>\n",
       "      <td>L’occupazione continuerebbe a espandersi</td>\n",
       "      <td>Il saldo fra la quota di aziende che intendono...</td>\n",
       "      <td>Il saldo tra le aziende che vogliono aumentare...</td>\n",
       "      <td>qwen2.5-72b-instruct</td>\n",
       "      <td>33</td>\n",
       "    </tr>\n",
       "    <tr>\n",
       "      <th>1</th>\n",
       "      <td>2023Q3</td>\n",
       "      <td>corpo</td>\n",
       "      <td>Le aspettative di inflazione sono scese su tut...</td>\n",
       "      <td>Le aspettative sull’inflazione al consumo si s...</td>\n",
       "      <td>Le aspettative sull'inflazione al consumo si s...</td>\n",
       "      <td>qwen2.5-72b-instruct</td>\n",
       "      <td>84</td>\n",
       "    </tr>\n",
       "    <tr>\n",
       "      <th>2</th>\n",
       "      <td>2020Q3</td>\n",
       "      <td>sintesi</td>\n",
       "      <td>NaN</td>\n",
       "      <td>Secondo l’indagine condotta tra il 27 agosto e...</td>\n",
       "      <td>Ecco una possibile bozza precedente:\\n\\nDall'i...</td>\n",
       "      <td>llama-4-scout-17b-16e-instruct</td>\n",
       "      <td>251</td>\n",
       "    </tr>\n",
       "    <tr>\n",
       "      <th>3</th>\n",
       "      <td>2024Q3</td>\n",
       "      <td>corpo</td>\n",
       "      <td>Le aspettative di inflazione sono lievemente a...</td>\n",
       "      <td>Rispetto alla scorsa rilevazione, l’inflazione...</td>\n",
       "      <td>Okay, quindi, rispetto all'ultima rilevazione,...</td>\n",
       "      <td>mistral-large-latest</td>\n",
       "      <td>227</td>\n",
       "    </tr>\n",
       "    <tr>\n",
       "      <th>4</th>\n",
       "      <td>2021Q2</td>\n",
       "      <td>corpo</td>\n",
       "      <td>…così come quelli sull’andamento corrente e at...</td>\n",
       "      <td>Le imprese si attendono anche una forte cresci...</td>\n",
       "      <td>Le imprese pensano che la domanda dei loro pro...</td>\n",
       "      <td>llama-4-scout-17b-16e-instruct</td>\n",
       "      <td>135</td>\n",
       "    </tr>\n",
       "  </tbody>\n",
       "</table>\n",
       "</div>"
      ],
      "text/plain": [
       "  edizione  sezione                                          titoletto  \\\n",
       "0   2023Q2    corpo           L’occupazione continuerebbe a espandersi   \n",
       "1   2023Q3    corpo  Le aspettative di inflazione sono scese su tut...   \n",
       "2   2020Q3  sintesi                                                NaN   \n",
       "3   2024Q3    corpo  Le aspettative di inflazione sono lievemente a...   \n",
       "4   2021Q2    corpo  …così come quelli sull’andamento corrente e at...   \n",
       "\n",
       "                                               testo  \\\n",
       "0  Il saldo fra la quota di aziende che intendono...   \n",
       "1  Le aspettative sull’inflazione al consumo si s...   \n",
       "2  Secondo l’indagine condotta tra il 27 agosto e...   \n",
       "3  Rispetto alla scorsa rilevazione, l’inflazione...   \n",
       "4  Le imprese si attendono anche una forte cresci...   \n",
       "\n",
       "                                               input  \\\n",
       "0  Il saldo tra le aziende che vogliono aumentare...   \n",
       "1  Le aspettative sull'inflazione al consumo si s...   \n",
       "2  Ecco una possibile bozza precedente:\\n\\nDall'i...   \n",
       "3  Okay, quindi, rispetto all'ultima rilevazione,...   \n",
       "4  Le imprese pensano che la domanda dei loro pro...   \n",
       "\n",
       "                            model  text_id  \n",
       "0            qwen2.5-72b-instruct       33  \n",
       "1            qwen2.5-72b-instruct       84  \n",
       "2  llama-4-scout-17b-16e-instruct      251  \n",
       "3            mistral-large-latest      227  \n",
       "4  llama-4-scout-17b-16e-instruct      135  "
      ]
     },
     "execution_count": 15,
     "metadata": {},
     "output_type": "execute_result"
    }
   ],
   "source": [
    "train_df.head()"
   ]
  },
  {
   "cell_type": "code",
   "execution_count": 6,
   "id": "278b536a",
   "metadata": {},
   "outputs": [
    {
     "data": {
      "text/plain": [
       "model\n",
       "qwen2.5-72b-instruct              93\n",
       "llama-4-scout-17b-16e-instruct    87\n",
       "mistral-large-latest              83\n",
       "Name: count, dtype: int64"
      ]
     },
     "execution_count": 6,
     "metadata": {},
     "output_type": "execute_result"
    }
   ],
   "source": [
    "train_df.model.value_counts()"
   ]
  },
  {
   "cell_type": "markdown",
   "id": "3dc1b3b1",
   "metadata": {},
   "source": [
    "## Add one-shot example for prompting in training"
   ]
  },
  {
   "cell_type": "markdown",
   "id": "6d5dc70b",
   "metadata": {},
   "source": [
    "### Qdrant collection to select the most simliar - non identical example"
   ]
  },
  {
   "cell_type": "code",
   "execution_count": 18,
   "id": "5e76ee84",
   "metadata": {},
   "outputs": [],
   "source": [
    "client = QdrantClient(\":memory:\")  # Qdrant is running from RAM.\n",
    "emb = TextEmbedding(\"jinaai/jina-embeddings-v3\")\n",
    "\n",
    "_ = client.create_collection(\n",
    "    collection_name=\"examples\",\n",
    "    vectors_config=models.VectorParams(\n",
    "        size=emb.model.model_description.dim, \n",
    "        distance=models.Distance.COSINE\n",
    "    ),  # size and distance are model dependent\n",
    ")"
   ]
  },
  {
   "cell_type": "code",
   "execution_count": 19,
   "id": "01128d97",
   "metadata": {},
   "outputs": [],
   "source": [
    "train_dicts = train_df.to_dict(orient=\"records\")\n",
    "all_dicts = all_df.to_dict(orient=\"records\")"
   ]
  },
  {
   "cell_type": "code",
   "execution_count": 20,
   "id": "6294480b",
   "metadata": {},
   "outputs": [],
   "source": [
    "_ = client.upload_collection(\n",
    "    collection_name=\"examples\",\n",
    "    vectors=[emb.embed(doc[\"testo\"]).send(None) for doc in all_dicts],\n",
    "    payload=all_dicts,\n",
    "    ids=range(len(all_dicts)),\n",
    ")"
   ]
  },
  {
   "cell_type": "code",
   "execution_count": 42,
   "id": "77609f58",
   "metadata": {},
   "outputs": [],
   "source": [
    "results = []\n",
    "\n",
    "for row in train_dicts:\n",
    "    # Find the most simliar text - not identical to the current one\n",
    "    os_dict = client.query_points(\n",
    "        collection_name=\"examples\",\n",
    "        query=emb.embed(row[\"testo\"]).send(None),\n",
    "        limit=1,\n",
    "        query_filter=models.Filter(\n",
    "            must_not=[\n",
    "                models.FieldCondition(\n",
    "                    key=\"text_id\",\n",
    "                    match=models.MatchValue(\n",
    "                        value=row[\"text_id\"],\n",
    "                    ),\n",
    "                )\n",
    "            ]\n",
    "        ),\n",
    "    ).points[0].payload\n",
    "    new_row = {\n",
    "        **row,\n",
    "        \"os_testo\": os_dict[\"testo\"],\n",
    "        \"os_input\": os_dict[\"input\"],\n",
    "        \"os_model\": os_dict[\"model\"],\n",
    "        \"os_text_id\": os_dict[\"text_id\"],\n",
    "    }\n",
    "    results.append(new_row)\n"
   ]
  },
  {
   "cell_type": "code",
   "execution_count": 43,
   "id": "c5fe64ec",
   "metadata": {},
   "outputs": [],
   "source": [
    "train_os_df = pd.DataFrame(results)"
   ]
  },
  {
   "cell_type": "code",
   "execution_count": 44,
   "id": "7985a87b",
   "metadata": {},
   "outputs": [
    {
     "data": {
      "text/html": [
       "<div>\n",
       "<style scoped>\n",
       "    .dataframe tbody tr th:only-of-type {\n",
       "        vertical-align: middle;\n",
       "    }\n",
       "\n",
       "    .dataframe tbody tr th {\n",
       "        vertical-align: top;\n",
       "    }\n",
       "\n",
       "    .dataframe thead th {\n",
       "        text-align: right;\n",
       "    }\n",
       "</style>\n",
       "<table border=\"1\" class=\"dataframe\">\n",
       "  <thead>\n",
       "    <tr style=\"text-align: right;\">\n",
       "      <th></th>\n",
       "      <th>edizione</th>\n",
       "      <th>sezione</th>\n",
       "      <th>titoletto</th>\n",
       "      <th>testo</th>\n",
       "      <th>input</th>\n",
       "      <th>model</th>\n",
       "      <th>text_id</th>\n",
       "      <th>os_testo</th>\n",
       "      <th>os_input</th>\n",
       "      <th>os_model</th>\n",
       "      <th>os_text_id</th>\n",
       "    </tr>\n",
       "  </thead>\n",
       "  <tbody>\n",
       "    <tr>\n",
       "      <th>0</th>\n",
       "      <td>2023Q2</td>\n",
       "      <td>corpo</td>\n",
       "      <td>L’occupazione continuerebbe a espandersi</td>\n",
       "      <td>Il saldo fra la quota di aziende che intendono...</td>\n",
       "      <td>Il saldo tra le aziende che vogliono aumentare...</td>\n",
       "      <td>qwen2.5-72b-instruct</td>\n",
       "      <td>33</td>\n",
       "      <td>ll divario tra le quote di aziende che prevedo...</td>\n",
       "      <td>Il divario tra le aziende che prevedono di aum...</td>\n",
       "      <td>qwen2.5-72b-instruct</td>\n",
       "      <td>261</td>\n",
       "    </tr>\n",
       "    <tr>\n",
       "      <th>1</th>\n",
       "      <td>2023Q3</td>\n",
       "      <td>corpo</td>\n",
       "      <td>Le aspettative di inflazione sono scese su tut...</td>\n",
       "      <td>Le aspettative sull’inflazione al consumo si s...</td>\n",
       "      <td>Le aspettative sull'inflazione al consumo si s...</td>\n",
       "      <td>qwen2.5-72b-instruct</td>\n",
       "      <td>84</td>\n",
       "      <td>Le aspettative sull’inflazione al consumo si s...</td>\n",
       "      <td>Le aspettative sull'inflazione al consumo si s...</td>\n",
       "      <td>qwen2.5-72b-instruct</td>\n",
       "      <td>83</td>\n",
       "    </tr>\n",
       "    <tr>\n",
       "      <th>2</th>\n",
       "      <td>2020Q3</td>\n",
       "      <td>sintesi</td>\n",
       "      <td>NaN</td>\n",
       "      <td>Secondo l’indagine condotta tra il 27 agosto e...</td>\n",
       "      <td>Ecco una possibile bozza precedente:\\n\\nDall'i...</td>\n",
       "      <td>llama-4-scout-17b-16e-instruct</td>\n",
       "      <td>251</td>\n",
       "      <td>Secondo l’indagine condotta tra il 23 novembre...</td>\n",
       "      <td>Abbiamo fatto un'indagine tra il 23 novembre e...</td>\n",
       "      <td>llama-4-scout-17b-16e-instruct</td>\n",
       "      <td>242</td>\n",
       "    </tr>\n",
       "    <tr>\n",
       "      <th>3</th>\n",
       "      <td>2024Q3</td>\n",
       "      <td>corpo</td>\n",
       "      <td>Le aspettative di inflazione sono lievemente a...</td>\n",
       "      <td>Rispetto alla scorsa rilevazione, l’inflazione...</td>\n",
       "      <td>Okay, quindi, rispetto all'ultima rilevazione,...</td>\n",
       "      <td>mistral-large-latest</td>\n",
       "      <td>227</td>\n",
       "      <td>L’inflazione al consumo sui 12 mesi attesa dal...</td>\n",
       "      <td>L'inflazione al consumo sui 12 mesi, quella ch...</td>\n",
       "      <td>mistral-large-latest</td>\n",
       "      <td>161</td>\n",
       "    </tr>\n",
       "    <tr>\n",
       "      <th>4</th>\n",
       "      <td>2021Q2</td>\n",
       "      <td>corpo</td>\n",
       "      <td>…così come quelli sull’andamento corrente e at...</td>\n",
       "      <td>Le imprese si attendono anche una forte cresci...</td>\n",
       "      <td>Le imprese pensano che la domanda dei loro pro...</td>\n",
       "      <td>llama-4-scout-17b-16e-instruct</td>\n",
       "      <td>135</td>\n",
       "      <td>La differenza tra la quota di imprese che hann...</td>\n",
       "      <td>Allora, la differenza fra la quota di imprese ...</td>\n",
       "      <td>mistral-large-latest</td>\n",
       "      <td>58</td>\n",
       "    </tr>\n",
       "  </tbody>\n",
       "</table>\n",
       "</div>"
      ],
      "text/plain": [
       "  edizione  sezione                                          titoletto  \\\n",
       "0   2023Q2    corpo           L’occupazione continuerebbe a espandersi   \n",
       "1   2023Q3    corpo  Le aspettative di inflazione sono scese su tut...   \n",
       "2   2020Q3  sintesi                                                NaN   \n",
       "3   2024Q3    corpo  Le aspettative di inflazione sono lievemente a...   \n",
       "4   2021Q2    corpo  …così come quelli sull’andamento corrente e at...   \n",
       "\n",
       "                                               testo  \\\n",
       "0  Il saldo fra la quota di aziende che intendono...   \n",
       "1  Le aspettative sull’inflazione al consumo si s...   \n",
       "2  Secondo l’indagine condotta tra il 27 agosto e...   \n",
       "3  Rispetto alla scorsa rilevazione, l’inflazione...   \n",
       "4  Le imprese si attendono anche una forte cresci...   \n",
       "\n",
       "                                               input  \\\n",
       "0  Il saldo tra le aziende che vogliono aumentare...   \n",
       "1  Le aspettative sull'inflazione al consumo si s...   \n",
       "2  Ecco una possibile bozza precedente:\\n\\nDall'i...   \n",
       "3  Okay, quindi, rispetto all'ultima rilevazione,...   \n",
       "4  Le imprese pensano che la domanda dei loro pro...   \n",
       "\n",
       "                            model  text_id  \\\n",
       "0            qwen2.5-72b-instruct       33   \n",
       "1            qwen2.5-72b-instruct       84   \n",
       "2  llama-4-scout-17b-16e-instruct      251   \n",
       "3            mistral-large-latest      227   \n",
       "4  llama-4-scout-17b-16e-instruct      135   \n",
       "\n",
       "                                            os_testo  \\\n",
       "0  ll divario tra le quote di aziende che prevedo...   \n",
       "1  Le aspettative sull’inflazione al consumo si s...   \n",
       "2  Secondo l’indagine condotta tra il 23 novembre...   \n",
       "3  L’inflazione al consumo sui 12 mesi attesa dal...   \n",
       "4  La differenza tra la quota di imprese che hann...   \n",
       "\n",
       "                                            os_input  \\\n",
       "0  Il divario tra le aziende che prevedono di aum...   \n",
       "1  Le aspettative sull'inflazione al consumo si s...   \n",
       "2  Abbiamo fatto un'indagine tra il 23 novembre e...   \n",
       "3  L'inflazione al consumo sui 12 mesi, quella ch...   \n",
       "4  Allora, la differenza fra la quota di imprese ...   \n",
       "\n",
       "                         os_model  os_text_id  \n",
       "0            qwen2.5-72b-instruct         261  \n",
       "1            qwen2.5-72b-instruct          83  \n",
       "2  llama-4-scout-17b-16e-instruct         242  \n",
       "3            mistral-large-latest         161  \n",
       "4            mistral-large-latest          58  "
      ]
     },
     "execution_count": 44,
     "metadata": {},
     "output_type": "execute_result"
    }
   ],
   "source": [
    "train_os_df.head()"
   ]
  },
  {
   "cell_type": "code",
   "execution_count": 45,
   "id": "343449f8",
   "metadata": {},
   "outputs": [],
   "source": [
    "train_os_df.to_excel(\"data/testi_randomized.xlsx\", index=False)"
   ]
  },
  {
   "cell_type": "code",
   "execution_count": null,
   "id": "e6eba3bb",
   "metadata": {},
   "outputs": [],
   "source": []
  }
 ],
 "metadata": {
  "kernelspec": {
   "display_name": ".venv",
   "language": "python",
   "name": "python3"
  },
  "language_info": {
   "codemirror_mode": {
    "name": "ipython",
    "version": 3
   },
   "file_extension": ".py",
   "mimetype": "text/x-python",
   "name": "python",
   "nbconvert_exporter": "python",
   "pygments_lexer": "ipython3",
   "version": "3.13.0rc2"
  }
 },
 "nbformat": 4,
 "nbformat_minor": 5
}
