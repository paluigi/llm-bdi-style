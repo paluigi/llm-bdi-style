{
 "cells": [
  {
   "cell_type": "code",
   "execution_count": 5,
   "id": "86281ee6",
   "metadata": {},
   "outputs": [],
   "source": [
    "import pandas as pd\n",
    "import numpy as np"
   ]
  },
  {
   "cell_type": "code",
   "execution_count": 37,
   "id": "b5fade8b",
   "metadata": {},
   "outputs": [],
   "source": [
    "cerebras_df = pd.read_excel(\"data/testi_cerebras_20250608.xlsx\")\n",
    "mistral_df = pd.read_excel(\"data/testi_mistral_20250608.xlsx\")\n",
    "qwen_df = pd.read_excel(\"data/testi_qwen_20250608.xlsx\")"
   ]
  },
  {
   "cell_type": "code",
   "execution_count": 38,
   "id": "f635396e",
   "metadata": {},
   "outputs": [],
   "source": [
    "cerebras_df[\"model\"] = \"llama-4-scout-17b-16e-instruct\"\n",
    "mistral_df[\"model\"] = \"mistral-large-latest\"\n",
    "qwen_df[\"model\"] = \"qwen2.5-72b-instruct\""
   ]
  },
  {
   "cell_type": "code",
   "execution_count": 39,
   "id": "d2d8048f",
   "metadata": {},
   "outputs": [],
   "source": [
    "all_df = pd.concat([cerebras_df, mistral_df, qwen_df], ignore_index=True)\n",
    "\n",
    "all_df = all_df.sample(frac=1, random_state=42).drop_duplicates(subset='testo', keep='first').reset_index(drop=True)"
   ]
  },
  {
   "cell_type": "code",
   "execution_count": 40,
   "id": "6b918234",
   "metadata": {},
   "outputs": [
    {
     "data": {
      "text/html": [
       "<div>\n",
       "<style scoped>\n",
       "    .dataframe tbody tr th:only-of-type {\n",
       "        vertical-align: middle;\n",
       "    }\n",
       "\n",
       "    .dataframe tbody tr th {\n",
       "        vertical-align: top;\n",
       "    }\n",
       "\n",
       "    .dataframe thead th {\n",
       "        text-align: right;\n",
       "    }\n",
       "</style>\n",
       "<table border=\"1\" class=\"dataframe\">\n",
       "  <thead>\n",
       "    <tr style=\"text-align: right;\">\n",
       "      <th></th>\n",
       "      <th>edizione</th>\n",
       "      <th>sezione</th>\n",
       "      <th>titoletto</th>\n",
       "      <th>testo</th>\n",
       "      <th>input</th>\n",
       "      <th>model</th>\n",
       "    </tr>\n",
       "  </thead>\n",
       "  <tbody>\n",
       "    <tr>\n",
       "      <th>0</th>\n",
       "      <td>2023Q2</td>\n",
       "      <td>corpo</td>\n",
       "      <td>L’occupazione continuerebbe a espandersi</td>\n",
       "      <td>Il saldo fra la quota di aziende che intendono...</td>\n",
       "      <td>Il saldo tra le aziende che vogliono aumentare...</td>\n",
       "      <td>qwen2.5-72b-instruct</td>\n",
       "    </tr>\n",
       "    <tr>\n",
       "      <th>1</th>\n",
       "      <td>2023Q3</td>\n",
       "      <td>corpo</td>\n",
       "      <td>Le aspettative di inflazione sono scese su tut...</td>\n",
       "      <td>Le aspettative sull’inflazione al consumo si s...</td>\n",
       "      <td>Le aspettative sull'inflazione al consumo si s...</td>\n",
       "      <td>qwen2.5-72b-instruct</td>\n",
       "    </tr>\n",
       "    <tr>\n",
       "      <th>2</th>\n",
       "      <td>2020Q3</td>\n",
       "      <td>sintesi</td>\n",
       "      <td>NaN</td>\n",
       "      <td>Secondo l’indagine condotta tra il 27 agosto e...</td>\n",
       "      <td>Ecco una possibile bozza precedente:\\n\\nDall'i...</td>\n",
       "      <td>llama-4-scout-17b-16e-instruct</td>\n",
       "    </tr>\n",
       "    <tr>\n",
       "      <th>3</th>\n",
       "      <td>2024Q3</td>\n",
       "      <td>corpo</td>\n",
       "      <td>Le aspettative di inflazione sono lievemente a...</td>\n",
       "      <td>Rispetto alla scorsa rilevazione, l’inflazione...</td>\n",
       "      <td>Okay, quindi, rispetto all'ultima rilevazione,...</td>\n",
       "      <td>mistral-large-latest</td>\n",
       "    </tr>\n",
       "    <tr>\n",
       "      <th>4</th>\n",
       "      <td>2021Q2</td>\n",
       "      <td>corpo</td>\n",
       "      <td>…così come quelli sull’andamento corrente e at...</td>\n",
       "      <td>Le imprese si attendono anche una forte cresci...</td>\n",
       "      <td>Le imprese pensano che la domanda dei loro pro...</td>\n",
       "      <td>llama-4-scout-17b-16e-instruct</td>\n",
       "    </tr>\n",
       "  </tbody>\n",
       "</table>\n",
       "</div>"
      ],
      "text/plain": [
       "  edizione  sezione                                          titoletto  \\\n",
       "0   2023Q2    corpo           L’occupazione continuerebbe a espandersi   \n",
       "1   2023Q3    corpo  Le aspettative di inflazione sono scese su tut...   \n",
       "2   2020Q3  sintesi                                                NaN   \n",
       "3   2024Q3    corpo  Le aspettative di inflazione sono lievemente a...   \n",
       "4   2021Q2    corpo  …così come quelli sull’andamento corrente e at...   \n",
       "\n",
       "                                               testo  \\\n",
       "0  Il saldo fra la quota di aziende che intendono...   \n",
       "1  Le aspettative sull’inflazione al consumo si s...   \n",
       "2  Secondo l’indagine condotta tra il 27 agosto e...   \n",
       "3  Rispetto alla scorsa rilevazione, l’inflazione...   \n",
       "4  Le imprese si attendono anche una forte cresci...   \n",
       "\n",
       "                                               input  \\\n",
       "0  Il saldo tra le aziende che vogliono aumentare...   \n",
       "1  Le aspettative sull'inflazione al consumo si s...   \n",
       "2  Ecco una possibile bozza precedente:\\n\\nDall'i...   \n",
       "3  Okay, quindi, rispetto all'ultima rilevazione,...   \n",
       "4  Le imprese pensano che la domanda dei loro pro...   \n",
       "\n",
       "                            model  \n",
       "0            qwen2.5-72b-instruct  \n",
       "1            qwen2.5-72b-instruct  \n",
       "2  llama-4-scout-17b-16e-instruct  \n",
       "3            mistral-large-latest  \n",
       "4  llama-4-scout-17b-16e-instruct  "
      ]
     },
     "execution_count": 40,
     "metadata": {},
     "output_type": "execute_result"
    }
   ],
   "source": [
    "all_df.head()"
   ]
  },
  {
   "cell_type": "code",
   "execution_count": 41,
   "id": "278b536a",
   "metadata": {},
   "outputs": [
    {
     "data": {
      "text/plain": [
       "model\n",
       "qwen2.5-72b-instruct              93\n",
       "llama-4-scout-17b-16e-instruct    87\n",
       "mistral-large-latest              83\n",
       "Name: count, dtype: int64"
      ]
     },
     "execution_count": 41,
     "metadata": {},
     "output_type": "execute_result"
    }
   ],
   "source": [
    "all_df.model.value_counts()"
   ]
  },
  {
   "cell_type": "code",
   "execution_count": 42,
   "id": "343449f8",
   "metadata": {},
   "outputs": [],
   "source": [
    "all_df.to_excel(\"data/testi_randomized.xlsx\", index=False)"
   ]
  },
  {
   "cell_type": "code",
   "execution_count": null,
   "id": "e6eba3bb",
   "metadata": {},
   "outputs": [],
   "source": []
  }
 ],
 "metadata": {
  "kernelspec": {
   "display_name": ".venv",
   "language": "python",
   "name": "python3"
  },
  "language_info": {
   "codemirror_mode": {
    "name": "ipython",
    "version": 3
   },
   "file_extension": ".py",
   "mimetype": "text/x-python",
   "name": "python",
   "nbconvert_exporter": "python",
   "pygments_lexer": "ipython3",
   "version": "3.13.0rc2"
  }
 },
 "nbformat": 4,
 "nbformat_minor": 5
}
