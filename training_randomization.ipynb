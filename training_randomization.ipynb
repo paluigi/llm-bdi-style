{
 "cells": [
  {
   "cell_type": "code",
   "execution_count": 5,
   "id": "86281ee6",
   "metadata": {},
   "outputs": [],
   "source": [
    "import pandas as pd\n",
    "import numpy as np"
   ]
  },
  {
   "cell_type": "code",
   "execution_count": 4,
   "id": "b5fade8b",
   "metadata": {},
   "outputs": [],
   "source": [
    "cerebras_df = pd.read_excel(\"data/testi_cerebras_20250511.xlsx\")\n",
    "mistral_df = pd.read_excel(\"data/testi_mistral_20250511.xlsx\")\n",
    "qwen_df = pd.read_excel(\"data/testi_qwen_20250511.xlsx\")"
   ]
  },
  {
   "cell_type": "code",
   "execution_count": 31,
   "id": "f635396e",
   "metadata": {},
   "outputs": [],
   "source": [
    "cerebras_df[\"model\"] = \"llama-4-scout-17b-16e-instruct\"\n",
    "mistral_df[\"model\"] = \"mistral-large-latest\"\n",
    "qwen_df[\"model\"] = \"qwen2.5-72b-instruct\""
   ]
  },
  {
   "cell_type": "code",
   "execution_count": 32,
   "id": "d2d8048f",
   "metadata": {},
   "outputs": [],
   "source": [
    "all_df = pd.concat([cerebras_df, mistral_df, qwen_df], ignore_index=True)\n",
    "\n",
    "all_df = all_df.sample(frac=1, random_state=42).drop_duplicates(subset='testo', keep='first').reset_index(drop=True)"
   ]
  },
  {
   "cell_type": "code",
   "execution_count": 33,
   "id": "6b918234",
   "metadata": {},
   "outputs": [
    {
     "data": {
      "text/html": [
       "<div>\n",
       "<style scoped>\n",
       "    .dataframe tbody tr th:only-of-type {\n",
       "        vertical-align: middle;\n",
       "    }\n",
       "\n",
       "    .dataframe tbody tr th {\n",
       "        vertical-align: top;\n",
       "    }\n",
       "\n",
       "    .dataframe thead th {\n",
       "        text-align: right;\n",
       "    }\n",
       "</style>\n",
       "<table border=\"1\" class=\"dataframe\">\n",
       "  <thead>\n",
       "    <tr style=\"text-align: right;\">\n",
       "      <th></th>\n",
       "      <th>edizione</th>\n",
       "      <th>sezione</th>\n",
       "      <th>titoletto</th>\n",
       "      <th>testo</th>\n",
       "      <th>input</th>\n",
       "      <th>model</th>\n",
       "    </tr>\n",
       "  </thead>\n",
       "  <tbody>\n",
       "    <tr>\n",
       "      <th>0</th>\n",
       "      <td>2020Q2</td>\n",
       "      <td>corpo</td>\n",
       "      <td>Le aspettative di inflazione sono scese…</td>\n",
       "      <td>Rispetto alla rilevazione di marzo, nel second...</td>\n",
       "      <td>Ecco una possibile bozza precedente del paragr...</td>\n",
       "      <td>qwen2.5-72b-instruct</td>\n",
       "    </tr>\n",
       "    <tr>\n",
       "      <th>1</th>\n",
       "      <td>2024Q2</td>\n",
       "      <td>corpo</td>\n",
       "      <td>I giudizi delle imprese sulla situazione econo...</td>\n",
       "      <td>Nel secondo trimestre del 2024 è rimasta netta...</td>\n",
       "      <td>Ecco una possibile bozza precedente del paragr...</td>\n",
       "      <td>llama-4-scout-17b-16e-instruct</td>\n",
       "    </tr>\n",
       "    <tr>\n",
       "      <th>2</th>\n",
       "      <td>2024Q1</td>\n",
       "      <td>corpo</td>\n",
       "      <td>I prezzi di vendita hanno continuato a deceler...</td>\n",
       "      <td>Negli ultimi 12 mesi i prezzi praticati dalle ...</td>\n",
       "      <td>Negli ultimi 12 mesi, i prezzi praticati dalle...</td>\n",
       "      <td>mistral-large-latest</td>\n",
       "    </tr>\n",
       "    <tr>\n",
       "      <th>3</th>\n",
       "      <td>2020Q1</td>\n",
       "      <td>corpo</td>\n",
       "      <td>… inducendo un brusco ridimensionamento dei pi...</td>\n",
       "      <td>Le valutazioni delle imprese sulla spesa per i...</td>\n",
       "      <td>Le valutazioni delle imprese sulla spesa per i...</td>\n",
       "      <td>mistral-large-latest</td>\n",
       "    </tr>\n",
       "    <tr>\n",
       "      <th>4</th>\n",
       "      <td>2021Q3</td>\n",
       "      <td>corpo</td>\n",
       "      <td>…e si prevede un’espansione sia degli investim...</td>\n",
       "      <td>Le previsioni di investimento per l’intero 202...</td>\n",
       "      <td>Le previsioni sugli investimenti per tutto il ...</td>\n",
       "      <td>qwen2.5-72b-instruct</td>\n",
       "    </tr>\n",
       "  </tbody>\n",
       "</table>\n",
       "</div>"
      ],
      "text/plain": [
       "  edizione sezione                                          titoletto  \\\n",
       "0   2020Q2   corpo           Le aspettative di inflazione sono scese…   \n",
       "1   2024Q2   corpo  I giudizi delle imprese sulla situazione econo...   \n",
       "2   2024Q1   corpo  I prezzi di vendita hanno continuato a deceler...   \n",
       "3   2020Q1   corpo  … inducendo un brusco ridimensionamento dei pi...   \n",
       "4   2021Q3   corpo  …e si prevede un’espansione sia degli investim...   \n",
       "\n",
       "                                               testo  \\\n",
       "0  Rispetto alla rilevazione di marzo, nel second...   \n",
       "1  Nel secondo trimestre del 2024 è rimasta netta...   \n",
       "2  Negli ultimi 12 mesi i prezzi praticati dalle ...   \n",
       "3  Le valutazioni delle imprese sulla spesa per i...   \n",
       "4  Le previsioni di investimento per l’intero 202...   \n",
       "\n",
       "                                               input  \\\n",
       "0  Ecco una possibile bozza precedente del paragr...   \n",
       "1  Ecco una possibile bozza precedente del paragr...   \n",
       "2  Negli ultimi 12 mesi, i prezzi praticati dalle...   \n",
       "3  Le valutazioni delle imprese sulla spesa per i...   \n",
       "4  Le previsioni sugli investimenti per tutto il ...   \n",
       "\n",
       "                            model  \n",
       "0            qwen2.5-72b-instruct  \n",
       "1  llama-4-scout-17b-16e-instruct  \n",
       "2            mistral-large-latest  \n",
       "3            mistral-large-latest  \n",
       "4            qwen2.5-72b-instruct  "
      ]
     },
     "execution_count": 33,
     "metadata": {},
     "output_type": "execute_result"
    }
   ],
   "source": [
    "all_df.head()"
   ]
  },
  {
   "cell_type": "code",
   "execution_count": 34,
   "id": "278b536a",
   "metadata": {},
   "outputs": [
    {
     "data": {
      "text/plain": [
       "model\n",
       "llama-4-scout-17b-16e-instruct    99\n",
       "qwen2.5-72b-instruct              88\n",
       "mistral-large-latest              76\n",
       "Name: count, dtype: int64"
      ]
     },
     "execution_count": 34,
     "metadata": {},
     "output_type": "execute_result"
    }
   ],
   "source": [
    "all_df.model.value_counts()"
   ]
  },
  {
   "cell_type": "code",
   "execution_count": 35,
   "id": "343449f8",
   "metadata": {},
   "outputs": [],
   "source": [
    "all_df.to_excel(\"data/testi_randomized.xlsx\", index=False)"
   ]
  },
  {
   "cell_type": "code",
   "execution_count": null,
   "id": "e6eba3bb",
   "metadata": {},
   "outputs": [],
   "source": []
  }
 ],
 "metadata": {
  "kernelspec": {
   "display_name": ".venv",
   "language": "python",
   "name": "python3"
  },
  "language_info": {
   "codemirror_mode": {
    "name": "ipython",
    "version": 3
   },
   "file_extension": ".py",
   "mimetype": "text/x-python",
   "name": "python",
   "nbconvert_exporter": "python",
   "pygments_lexer": "ipython3",
   "version": "3.13.0rc2"
  }
 },
 "nbformat": 4,
 "nbformat_minor": 5
}
